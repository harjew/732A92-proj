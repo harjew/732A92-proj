{
 "cells": [
  {
   "cell_type": "code",
   "execution_count": 5,
   "metadata": {},
   "outputs": [],
   "source": [
    "import csv\n",
    "import numpy as np\n",
    "import tensorflow as tf\n",
    "from tensorflow.keras.preprocessing.text import Tokenizer\n",
    "from tensorflow.keras.preprocessing.sequence import pad_sequences\n",
    "from tensorflow.keras.models import Sequential\n",
    "from tensorflow.keras.layers import Dense, Flatten, LSTM, Dropout, Activation, Embedding, Bidirectional\n"
   ]
  },
  {
   "cell_type": "code",
   "execution_count": 6,
   "metadata": {},
   "outputs": [],
   "source": [
    "import nltk\n",
    "#nltk.download('stopwords')\n",
    "from nltk.corpus import stopwords\n",
    "STOPWORDS = set(stopwords.words('english'))"
   ]
  },
  {
   "cell_type": "code",
   "execution_count": 7,
   "metadata": {},
   "outputs": [],
   "source": [
    "# removing stopwords and saving alpha words. \n",
    "import spacy\n",
    "\n",
    "nlp = spacy.load(\"en_core_web_sm\", disable=[\"tagger\", \"parser\", \"ner\",\"textcat\"])\n",
    "\n",
    "def preprocess(text):\n",
    "    return ' '.join(tok.text for tok in nlp(text) if tok.is_alpha and not tok.is_stop).lower()"
   ]
  },
  {
   "cell_type": "code",
   "execution_count": 8,
   "metadata": {},
   "outputs": [
    {
     "name": "stdout",
     "output_type": "stream",
     "text": [
      "The original lyrics\n",
      "It has been so long eating and drinking being merry How strange, how strange Taking our Great Mongol ancestors names in vain How strange, how strange Yet, would not honor our oath and destiny How strange, how strange Why the valuable ethics of ancestors become worthless? How strange, how strange Hey, you traitor Kneel down Hey, Prophecies be declared You've born in ancestor’s fate yet Sleeping deeply, can't be awakened How strange, how strange Blindly declaring that Only Mongols are the best How strange, how strange Born to live as nobles Yet, can't unite as one How strange, how strange Why is it difficult to rise up our nation up? How strange, how strange Hey, you traitor Kneel down Hey, Prophecies be declared Why it’s so hard to cherish the Ancestors' inherited land? How strange, how strange Why priceless edifications of elders turning to ashes? How strange, how strange With the future of eternal prosperity, The Wolf totemed Mongols have the blessings of Heaven Born with undeniable fate to gather nations, the Lord Chinggis declares his name on earth. Would come back, Will come back Oh Black Banner be awakened, be awakened Oh the Khanate royal power rise and rise forever How strange, how strange Oh Black Banner be awakened, be awakened Oh the Khanate royal power rise and rise forever\n"
     ]
    }
   ],
   "source": [
    "import pandas as pd\n",
    "start = pd.read_csv('lyrics_01_09.csv', sep=',')\n",
    "#start = start.set_index(\"index\")\n",
    "print(\"The original lyrics\")\n",
    "print(start.lyrics[0])"
   ]
  },
  {
   "cell_type": "code",
   "execution_count": 9,
   "metadata": {},
   "outputs": [],
   "source": [
    "lyrics = []\n",
    "genre = []\n",
    "for i,l in start.iterrows():\n",
    "    genre.append(l.grouped_genre)\n",
    "    lyric = preprocess(l.lyrics) \n",
    "    lyrics.append(lyric)"
   ]
  },
  {
   "cell_type": "code",
   "execution_count": 10,
   "metadata": {},
   "outputs": [],
   "source": [
    "genre = [i if i != \"go-go\" else \"gogo\" for i in genre]  \n",
    "genre = [i if i != \"doo-wop\" else \"doowop\" for i in genre] "
   ]
  },
  {
   "cell_type": "code",
   "execution_count": 11,
   "metadata": {},
   "outputs": [
    {
     "name": "stdout",
     "output_type": "stream",
     "text": [
      "Removal of stopwords\n",
      "long eating drinking merry strange strange taking great mongol ancestors names vain strange strange honor oath destiny strange strange valuable ethics ancestors worthless strange strange hey traitor kneel hey prophecies declared born ancestor fate sleeping deeply awakened strange strange blindly declaring mongols best strange strange born live nobles unite strange strange difficult rise nation strange strange hey traitor kneel hey prophecies declared hard cherish ancestors inherited land strange strange priceless edifications elders turning ashes strange strange future eternal prosperity wolf totemed mongols blessings heaven born undeniable fate gather nations lord chinggis declares earth come come oh black banner awakened awakened oh khanate royal power rise rise forever strange strange oh black banner awakened awakened oh khanate royal power rise rise forever\n"
     ]
    }
   ],
   "source": [
    "print(\"Removal of stopwords\")\n",
    "print(lyrics[0])"
   ]
  },
  {
   "cell_type": "code",
   "execution_count": 12,
   "metadata": {},
   "outputs": [
    {
     "name": "stdout",
     "output_type": "stream",
     "text": [
      "26912\n",
      "26912\n"
     ]
    }
   ],
   "source": [
    "print(len(lyrics))\n",
    "print(len(genre))"
   ]
  },
  {
   "cell_type": "code",
   "execution_count": 13,
   "metadata": {},
   "outputs": [],
   "source": [
    "vocab_size = 6000 # 5000 make the top list of words (common words)\n",
    "embedding_dim = 32# 64\n",
    "max_length = 200\n",
    "trunc_type = 'post'\n",
    "padding_type = 'post'\n",
    "oov_tok = '<OOV>' # OOV = Out of Vocabulary"
   ]
  },
  {
   "cell_type": "code",
   "execution_count": 14,
   "metadata": {},
   "outputs": [
    {
     "name": "stdout",
     "output_type": "stream",
     "text": [
      "Found 81667 unique tokens.\n"
     ]
    }
   ],
   "source": [
    "#tokenizer = Tokenizer(num_words = vocab_size, oov_token=oov_tok)\n",
    "tokenizer = Tokenizer(num_words=vocab_size, filters='!\"#$%&()*+,./:;<=>?@[\\\\]^_`{|}~\\t\\n-1234567890´–', \n",
    "                      lower=True, oov_token=oov_tok)\n",
    "tokenizer.fit_on_texts(lyrics)\n",
    "word_index = tokenizer.word_index\n",
    "print('Found %s unique tokens.' % len(word_index))#99530"
   ]
  },
  {
   "cell_type": "code",
   "execution_count": 15,
   "metadata": {},
   "outputs": [
    {
     "name": "stdout",
     "output_type": "stream",
     "text": [
      "Shape of data tensor: (26912, 200)\n"
     ]
    }
   ],
   "source": [
    "\n",
    "lyrics_sequences = tokenizer.texts_to_sequences(lyrics)\n",
    "lyrics_padded = pad_sequences(lyrics_sequences, maxlen=max_length, \n",
    "                             padding=padding_type, truncating=trunc_type).astype(np.float32)\n",
    "print('Shape of data tensor:', lyrics_padded.shape)"
   ]
  },
  {
   "cell_type": "code",
   "execution_count": 16,
   "metadata": {},
   "outputs": [
    {
     "name": "stdout",
     "output_type": "stream",
     "text": [
      "Shape of label tensor: (26912, 20)\n"
     ]
    }
   ],
   "source": [
    "import pandas as pd\n",
    "genre_names = pd.get_dummies(genre)\n",
    "genre_seq = genre_names.values\n",
    "print('Shape of label tensor:', genre_seq.shape)"
   ]
  },
  {
   "cell_type": "code",
   "execution_count": 17,
   "metadata": {},
   "outputs": [
    {
     "name": "stdout",
     "output_type": "stream",
     "text": [
      "['alternativeamericana', 'blues', 'bmore', 'chill', 'country', 'doowop', 'folk', 'gogo', 'hardglam', 'hiphop', 'house', 'indie', 'metal', 'nuelectro', 'pop', 'punk', 'rap', 'rave', 'rock', 'worship']\n"
     ]
    }
   ],
   "source": [
    "labels = list(genre_names.columns)\n",
    "print(labels)"
   ]
  },
  {
   "cell_type": "code",
   "execution_count": 18,
   "metadata": {},
   "outputs": [],
   "source": [
    "from sklearn.model_selection import train_test_split\n",
    "# Train and test_valedation split\n",
    "X_train,X_val_test,Y_train,Y_val_test = train_test_split(lyrics_padded,\n",
    "                                                 genre_seq,\n",
    "                                                 test_size=0.15,\n",
    "                                                 random_state= 54321)\n",
    "# Test and valedation split\n",
    "X_test,X_val,Y_test,Y_val = train_test_split(X_val_test,\n",
    "                                                 Y_val_test,\n",
    "                                                 test_size=0.75,\n",
    "                                                 random_state= 43125)\n"
   ]
  },
  {
   "cell_type": "code",
   "execution_count": 19,
   "metadata": {},
   "outputs": [
    {
     "name": "stdout",
     "output_type": "stream",
     "text": [
      "Model: \"sequential\"\n",
      "_________________________________________________________________\n",
      "Layer (type)                 Output Shape              Param #   \n",
      "=================================================================\n",
      "embedding (Embedding)        (None, 200, 64)           384000    \n",
      "_________________________________________________________________\n",
      "dropout (Dropout)            (None, 200, 64)           0         \n",
      "_________________________________________________________________\n",
      "lstm (LSTM)                  (None, 200, 64)           33024     \n",
      "_________________________________________________________________\n",
      "lstm_1 (LSTM)                (None, 32)                12416     \n",
      "_________________________________________________________________\n",
      "dropout_1 (Dropout)          (None, 32)                0         \n",
      "_________________________________________________________________\n",
      "dense (Dense)                (None, 20)                660       \n",
      "=================================================================\n",
      "Total params: 430,100\n",
      "Trainable params: 430,100\n",
      "Non-trainable params: 0\n",
      "_________________________________________________________________\n"
     ]
    }
   ],
   "source": [
    "from tensorflow.keras import layers\n",
    "\n",
    "model = Sequential()\n",
    "\n",
    "\n",
    "model.add(Embedding(vocab_size, 64, input_length=X_train.shape[1]))\n",
    "\n",
    "#model.add(layers.SpatialDropout1D(0.3))#.2\n",
    "#model.add(layers.Dropout(.5))# 100 , dropout=0.2, recurrent_dropout=0.2\n",
    "model.add(layers.Dropout(.2))# 100 , dropout=0.2, recurrent_dropout=0.2\n",
    "\n",
    "model.add(LSTM(64, return_sequences=True))# 100 , dropout=0.2, recurrent_dropout=0.2\n",
    "model.add(LSTM(32))# 100 , dropout=0.2, recurrent_dropout=0.2\n",
    "\n",
    "model.add(layers.Dropout(.5))# 100 , dropout=0.2, recurrent_dropout=0.2\n",
    "\n",
    "#model.add(Dense(20,activation = \"tanh\", \n",
    "#               kernel_regularizer = tf.keras.regularizers.L1(0.001)))# relu #tanh \n",
    "model.add(Dense(20,activation = \"softmax\"))# relu #tanh \n",
    "\n",
    "model.compile(loss='categorical_crossentropy', optimizer='adam', metrics=['accuracy'])\n",
    "\n",
    "model.summary()"
   ]
  },
  {
   "cell_type": "code",
   "execution_count": 20,
   "metadata": {},
   "outputs": [
    {
     "name": "stdout",
     "output_type": "stream",
     "text": [
      "Epoch 1/60\n",
      "715/715 - 72s - loss: 2.6079 - accuracy: 0.2028 - val_loss: 2.4919 - val_accuracy: 0.2417\n",
      "Epoch 2/60\n",
      "715/715 - 68s - loss: 2.5218 - accuracy: 0.2303 - val_loss: 2.4764 - val_accuracy: 0.2434\n",
      "Epoch 3/60\n",
      "715/715 - 68s - loss: 2.4842 - accuracy: 0.2374 - val_loss: 2.4699 - val_accuracy: 0.2424\n",
      "Epoch 4/60\n",
      "715/715 - 67s - loss: 2.4561 - accuracy: 0.2454 - val_loss: 2.4993 - val_accuracy: 0.2411\n",
      "Epoch 5/60\n",
      "715/715 - 67s - loss: 2.4321 - accuracy: 0.2552 - val_loss: 2.4928 - val_accuracy: 0.2427\n",
      "Epoch 6/60\n",
      "715/715 - 67s - loss: 2.3949 - accuracy: 0.2744 - val_loss: 2.4810 - val_accuracy: 0.2685\n",
      "Epoch 7/60\n",
      "715/715 - 67s - loss: 2.3585 - accuracy: 0.2985 - val_loss: 2.4357 - val_accuracy: 0.2999\n",
      "Epoch 8/60\n",
      "715/715 - 67s - loss: 2.3026 - accuracy: 0.3234 - val_loss: 2.4781 - val_accuracy: 0.3025\n",
      "Epoch 9/60\n",
      "715/715 - 67s - loss: 2.2491 - accuracy: 0.3414 - val_loss: 2.4038 - val_accuracy: 0.3121\n",
      "Epoch 10/60\n",
      "715/715 - 67s - loss: 2.1986 - accuracy: 0.3549 - val_loss: 2.4266 - val_accuracy: 0.3108\n",
      "Epoch 11/60\n",
      "715/715 - 67s - loss: 2.1522 - accuracy: 0.3658 - val_loss: 2.4136 - val_accuracy: 0.3134\n",
      "Epoch 12/60\n",
      "715/715 - 67s - loss: 2.1231 - accuracy: 0.3753 - val_loss: 2.4478 - val_accuracy: 0.3121\n",
      "Epoch 13/60\n",
      "715/715 - 67s - loss: 2.0891 - accuracy: 0.3835 - val_loss: 2.5047 - val_accuracy: 0.3121\n",
      "Epoch 14/60\n",
      "715/715 - 67s - loss: 2.0746 - accuracy: 0.3848 - val_loss: 2.4875 - val_accuracy: 0.3134\n",
      "Epoch 15/60\n",
      "715/715 - 67s - loss: 2.0388 - accuracy: 0.3950 - val_loss: 2.5117 - val_accuracy: 0.3164\n",
      "Epoch 16/60\n",
      "715/715 - 67s - loss: 2.0181 - accuracy: 0.3987 - val_loss: 2.4828 - val_accuracy: 0.3121\n",
      "Epoch 17/60\n",
      "715/715 - 68s - loss: 1.9945 - accuracy: 0.4029 - val_loss: 2.5037 - val_accuracy: 0.3127\n",
      "Epoch 18/60\n",
      "715/715 - 67s - loss: 1.9661 - accuracy: 0.4083 - val_loss: 2.5327 - val_accuracy: 0.3032\n",
      "Epoch 19/60\n",
      "715/715 - 67s - loss: 1.9434 - accuracy: 0.4129 - val_loss: 2.5055 - val_accuracy: 0.3144\n",
      "Epoch 20/60\n",
      "715/715 - 67s - loss: 1.9008 - accuracy: 0.4263 - val_loss: 2.5299 - val_accuracy: 0.3068\n",
      "Epoch 21/60\n",
      "715/715 - 67s - loss: 1.8737 - accuracy: 0.4334 - val_loss: 2.4847 - val_accuracy: 0.3174\n",
      "Epoch 22/60\n",
      "715/715 - 67s - loss: 1.8463 - accuracy: 0.4387 - val_loss: 2.5088 - val_accuracy: 0.3263\n",
      "Epoch 23/60\n",
      "715/715 - 67s - loss: 1.8117 - accuracy: 0.4478 - val_loss: 2.5430 - val_accuracy: 0.3111\n",
      "Epoch 24/60\n",
      "715/715 - 67s - loss: 1.7840 - accuracy: 0.4581 - val_loss: 2.5321 - val_accuracy: 0.3240\n",
      "Epoch 25/60\n",
      "715/715 - 67s - loss: 1.7461 - accuracy: 0.4685 - val_loss: 2.5888 - val_accuracy: 0.3227\n",
      "Epoch 26/60\n",
      "715/715 - 67s - loss: 1.7252 - accuracy: 0.4778 - val_loss: 2.6321 - val_accuracy: 0.3326\n",
      "Epoch 27/60\n",
      "715/715 - 67s - loss: 1.6935 - accuracy: 0.4870 - val_loss: 2.6164 - val_accuracy: 0.3362\n",
      "Epoch 28/60\n",
      "715/715 - 67s - loss: 1.6659 - accuracy: 0.4956 - val_loss: 2.6092 - val_accuracy: 0.3312\n",
      "Epoch 29/60\n",
      "715/715 - 67s - loss: 1.6523 - accuracy: 0.4991 - val_loss: 2.5959 - val_accuracy: 0.3336\n",
      "Epoch 30/60\n",
      "715/715 - 67s - loss: 1.6174 - accuracy: 0.5091 - val_loss: 2.6492 - val_accuracy: 0.3352\n",
      "Epoch 31/60\n",
      "715/715 - 68s - loss: 1.5935 - accuracy: 0.5169 - val_loss: 2.6983 - val_accuracy: 0.3342\n",
      "Epoch 32/60\n",
      "715/715 - 67s - loss: 1.5854 - accuracy: 0.5229 - val_loss: 2.6610 - val_accuracy: 0.3392\n",
      "Epoch 33/60\n",
      "715/715 - 67s - loss: 1.5700 - accuracy: 0.5248 - val_loss: 2.6805 - val_accuracy: 0.3454\n",
      "Epoch 34/60\n",
      "715/715 - 67s - loss: 1.5325 - accuracy: 0.5370 - val_loss: 2.7168 - val_accuracy: 0.3468\n",
      "Epoch 35/60\n",
      "715/715 - 67s - loss: 1.5123 - accuracy: 0.5445 - val_loss: 2.7004 - val_accuracy: 0.3415\n",
      "Epoch 36/60\n",
      "715/715 - 67s - loss: 1.5056 - accuracy: 0.5508 - val_loss: 2.7441 - val_accuracy: 0.3491\n",
      "Epoch 37/60\n",
      "715/715 - 67s - loss: 1.4741 - accuracy: 0.5603 - val_loss: 2.8040 - val_accuracy: 0.3474\n",
      "Epoch 38/60\n",
      "715/715 - 67s - loss: 1.4607 - accuracy: 0.5639 - val_loss: 2.7735 - val_accuracy: 0.3507\n",
      "Epoch 39/60\n",
      "715/715 - 67s - loss: 1.4361 - accuracy: 0.5738 - val_loss: 2.7756 - val_accuracy: 0.3448\n",
      "Epoch 40/60\n",
      "715/715 - 67s - loss: 1.4236 - accuracy: 0.5769 - val_loss: 2.8080 - val_accuracy: 0.3501\n",
      "Epoch 41/60\n",
      "715/715 - 67s - loss: 1.4034 - accuracy: 0.5859 - val_loss: 2.8508 - val_accuracy: 0.3520\n",
      "Epoch 42/60\n",
      "715/715 - 67s - loss: 1.3906 - accuracy: 0.5878 - val_loss: 2.9394 - val_accuracy: 0.3478\n",
      "Epoch 43/60\n",
      "715/715 - 67s - loss: 1.3679 - accuracy: 0.5979 - val_loss: 2.8794 - val_accuracy: 0.3474\n",
      "Epoch 44/60\n",
      "715/715 - 68s - loss: 1.3713 - accuracy: 0.5975 - val_loss: 2.8501 - val_accuracy: 0.3491\n",
      "Epoch 45/60\n",
      "715/715 - 70s - loss: 1.3384 - accuracy: 0.6060 - val_loss: 2.9007 - val_accuracy: 0.3550\n",
      "Epoch 46/60\n",
      "715/715 - 70s - loss: 1.3196 - accuracy: 0.6160 - val_loss: 2.8887 - val_accuracy: 0.3514\n",
      "Epoch 47/60\n",
      "715/715 - 69s - loss: 1.3282 - accuracy: 0.6108 - val_loss: 2.8372 - val_accuracy: 0.3587\n",
      "Epoch 48/60\n",
      "715/715 - 70s - loss: 1.2921 - accuracy: 0.6227 - val_loss: 2.9234 - val_accuracy: 0.3537\n",
      "Epoch 49/60\n",
      "715/715 - 72s - loss: 1.2760 - accuracy: 0.6276 - val_loss: 2.8883 - val_accuracy: 0.3567\n",
      "Epoch 50/60\n",
      "715/715 - 71s - loss: 1.2711 - accuracy: 0.6279 - val_loss: 2.9904 - val_accuracy: 0.3613\n",
      "Epoch 51/60\n",
      "715/715 - 70s - loss: 1.2393 - accuracy: 0.6393 - val_loss: 2.9750 - val_accuracy: 0.3646\n",
      "Epoch 52/60\n",
      "715/715 - 70s - loss: 1.2333 - accuracy: 0.6389 - val_loss: 2.9685 - val_accuracy: 0.3613\n",
      "Epoch 53/60\n",
      "715/715 - 70s - loss: 1.2106 - accuracy: 0.6454 - val_loss: 3.0540 - val_accuracy: 0.3679\n",
      "Epoch 54/60\n",
      "715/715 - 70s - loss: 1.1941 - accuracy: 0.6513 - val_loss: 3.0909 - val_accuracy: 0.3610\n",
      "Epoch 55/60\n",
      "715/715 - 70s - loss: 1.1951 - accuracy: 0.6530 - val_loss: 3.0088 - val_accuracy: 0.3682\n",
      "Epoch 56/60\n",
      "715/715 - 70s - loss: 1.1710 - accuracy: 0.6617 - val_loss: 3.0854 - val_accuracy: 0.3676\n",
      "Epoch 57/60\n",
      "715/715 - 69s - loss: 1.1592 - accuracy: 0.6650 - val_loss: 3.1112 - val_accuracy: 0.3653\n",
      "Epoch 58/60\n",
      "715/715 - 69s - loss: 1.1450 - accuracy: 0.6670 - val_loss: 3.0680 - val_accuracy: 0.3682\n",
      "Epoch 59/60\n",
      "715/715 - 71s - loss: 1.1324 - accuracy: 0.6713 - val_loss: 3.1466 - val_accuracy: 0.3666\n",
      "Epoch 60/60\n",
      "715/715 - 74s - loss: 1.1262 - accuracy: 0.6705 - val_loss: 3.2623 - val_accuracy: 0.3573\n"
     ]
    }
   ],
   "source": [
    "num_epochs = 60\n",
    "history = model.fit(X_train, Y_train, epochs=num_epochs, \n",
    "                    validation_data=(X_val, Y_val), verbose=2)"
   ]
  },
  {
   "cell_type": "code",
   "execution_count": 21,
   "metadata": {},
   "outputs": [
    {
     "name": "stdout",
     "output_type": "stream",
     "text": [
      "32/32 [==============================] - 1s 26ms/step - loss: 3.1460 - accuracy: 0.3588\n",
      "Test set\n",
      "  Loss: 3.146\n",
      "  Accuracy: 0.359\n"
     ]
    },
    {
     "data": {
      "text/plain": [
       "[3.1459951400756836, 0.35877105593681335]"
      ]
     },
     "execution_count": 21,
     "metadata": {},
     "output_type": "execute_result"
    }
   ],
   "source": [
    "accr = model.evaluate(X_test,Y_test)\n",
    "print('Test set\\n  Loss: {:0.3f}\\n  Accuracy: {:0.3f}'.format(accr[0],accr[1]))\n",
    "\n",
    "accr"
   ]
  },
  {
   "cell_type": "code",
   "execution_count": 22,
   "metadata": {},
   "outputs": [],
   "source": [
    "def predicted_class(m):\n",
    "    p = [np.argmax(i) for i in m]\n",
    "    return p\n",
    "\n",
    "pred_list = model.predict(X_test)\n",
    "pred_test = predicted_class(pred_list)\n",
    "real_test = predicted_class(Y_test)"
   ]
  },
  {
   "cell_type": "code",
   "execution_count": 23,
   "metadata": {},
   "outputs": [
    {
     "name": "stdout",
     "output_type": "stream",
     "text": [
      "                      precision    recall  f1-score   support\n",
      "\n",
      "alternativeamericana       0.48      0.57      0.52        46\n",
      "               blues       0.25      0.07      0.11        30\n",
      "               bmore       0.21      0.23      0.22        22\n",
      "               chill       0.17      0.04      0.06        26\n",
      "             country       0.33      0.09      0.14        23\n",
      "              doowop       0.62      0.80      0.70        25\n",
      "                folk       0.07      0.05      0.06        37\n",
      "                gogo       0.25      0.07      0.11        15\n",
      "            hardglam       0.43      0.32      0.36        19\n",
      "              hiphop       0.44      0.36      0.40        58\n",
      "               house       0.10      0.17      0.13        30\n",
      "               indie       0.19      0.22      0.20        92\n",
      "               metal       0.68      0.56      0.61       158\n",
      "           nuelectro       0.25      0.07      0.11        15\n",
      "                 pop       0.36      0.44      0.40       232\n",
      "                punk       0.18      0.23      0.20        22\n",
      "                 rap       0.53      0.44      0.48        18\n",
      "                rave       0.00      0.00      0.00        17\n",
      "                rock       0.24      0.33      0.28       108\n",
      "             worship       0.58      0.69      0.63        16\n",
      "\n",
      "            accuracy                           0.36      1009\n",
      "           macro avg       0.32      0.29      0.29      1009\n",
      "        weighted avg       0.36      0.36      0.35      1009\n",
      "\n"
     ]
    }
   ],
   "source": [
    "from sklearn.metrics import classification_report\n",
    "print(classification_report(real_test, pred_test, target_names = labels, zero_division =0))"
   ]
  },
  {
   "cell_type": "code",
   "execution_count": 24,
   "metadata": {},
   "outputs": [
    {
     "data": {
      "image/png": "[encoded data removed]",
      "text/plain": [
       "<Figure size 640x480 with 1 Axes>"
      ]
     },
     "metadata": {},
     "output_type": "display_data"
    }
   ],
   "source": [
    "import matplotlib.pyplot as plt\n",
    "from matplotlib.pyplot import figure\n",
    "figure(num=None, figsize=(8, 6), dpi=80, facecolor='w', edgecolor='k')\n",
    "plt.plot(history.history[\"val_accuracy\"],label=\"Validation\");\n",
    "plt.plot(history.history[\"accuracy\"], label=\"Training\")\n",
    "plt.legend(loc=\"upper left\")\n",
    "plt.title('Accuracy')\n",
    "plt.xlabel('Epoch')\n",
    "plt.ylabel('Accuracy');\n",
    "plt.savefig(\"images/lstm_ac.png\")"
   ]
  },
  {
   "cell_type": "code",
   "execution_count": 25,
   "metadata": {},
   "outputs": [
    {
     "name": "stdout",
     "output_type": "stream",
     "text": [
      "Model: \"sequential_1\"\n",
      "_________________________________________________________________\n",
      "Layer (type)                 Output Shape              Param #   \n",
      "=================================================================\n",
      "embedding_1 (Embedding)      (None, 200, 64)           384000    \n",
      "_________________________________________________________________\n",
      "dropout_2 (Dropout)          (None, 200, 64)           0         \n",
      "_________________________________________________________________\n",
      "gru (GRU)                    (None, 200, 64)           24960     \n",
      "_________________________________________________________________\n",
      "simple_rnn (SimpleRNN)       (None, 32)                3104      \n",
      "_________________________________________________________________\n",
      "dropout_3 (Dropout)          (None, 32)                0         \n",
      "_________________________________________________________________\n",
      "dense_1 (Dense)              (None, 20)                660       \n",
      "=================================================================\n",
      "Total params: 412,724\n",
      "Trainable params: 412,724\n",
      "Non-trainable params: 0\n",
      "_________________________________________________________________\n"
     ]
    }
   ],
   "source": [
    "model3 = Sequential()\n",
    "\n",
    "\n",
    "model3.add(Embedding(vocab_size, 64, input_length=max_length))\n",
    "\n",
    "#model2.add(layers.SpatialDropout1D(0.3))#.2\n",
    "#model3.add(LSTM(50))# 100\n",
    "#model3.add(layers.Dropout(.2))\n",
    "model3.add(layers.Dropout(.2))\n",
    "\n",
    "model3.add(layers.GRU(64, return_sequences = True))\n",
    "model3.add(layers.SimpleRNN(32))\n",
    "\n",
    "model3.add(layers.Dropout(.5))\n",
    "\n",
    "model3.add(Dense(20,activation = \"sigmoid\"))# relu #tanh \n",
    "\n",
    "model3.compile(loss='categorical_crossentropy', optimizer='adam', metrics=['accuracy'])\n",
    "\n",
    "model3.summary()"
   ]
  },
  {
   "cell_type": "code",
   "execution_count": 26,
   "metadata": {},
   "outputs": [
    {
     "name": "stdout",
     "output_type": "stream",
     "text": [
      "Epoch 1/60\n",
      "715/715 - 60s - loss: 2.6347 - accuracy: 0.1965 - val_loss: 2.5016 - val_accuracy: 0.2381\n",
      "Epoch 2/60\n",
      "715/715 - 59s - loss: 2.5391 - accuracy: 0.2257 - val_loss: 2.4906 - val_accuracy: 0.2391\n",
      "Epoch 3/60\n",
      "715/715 - 57s - loss: 2.4750 - accuracy: 0.2421 - val_loss: 2.4967 - val_accuracy: 0.2404\n",
      "Epoch 4/60\n",
      "715/715 - 58s - loss: 2.4249 - accuracy: 0.2477 - val_loss: 2.4842 - val_accuracy: 0.2384\n",
      "Epoch 5/60\n",
      "715/715 - 58s - loss: 2.3515 - accuracy: 0.3001 - val_loss: 2.4112 - val_accuracy: 0.3127\n",
      "Epoch 6/60\n",
      "715/715 - 56s - loss: 2.2335 - accuracy: 0.3535 - val_loss: 2.3958 - val_accuracy: 0.3207\n",
      "Epoch 7/60\n",
      "715/715 - 58s - loss: 2.1464 - accuracy: 0.3743 - val_loss: 2.4196 - val_accuracy: 0.3118\n",
      "Epoch 8/60\n",
      "715/715 - 56s - loss: 2.0923 - accuracy: 0.3854 - val_loss: 2.4276 - val_accuracy: 0.3184\n",
      "Epoch 9/60\n",
      "715/715 - 56s - loss: 2.0329 - accuracy: 0.3989 - val_loss: 2.4635 - val_accuracy: 0.2972\n",
      "Epoch 10/60\n",
      "715/715 - 55s - loss: 1.9740 - accuracy: 0.4136 - val_loss: 2.4831 - val_accuracy: 0.3078\n",
      "Epoch 11/60\n",
      "715/715 - 54s - loss: 1.9168 - accuracy: 0.4241 - val_loss: 2.4766 - val_accuracy: 0.3104\n",
      "Epoch 12/60\n",
      "715/715 - 56s - loss: 1.8602 - accuracy: 0.4401 - val_loss: 2.4704 - val_accuracy: 0.3161\n",
      "Epoch 13/60\n",
      "715/715 - 55s - loss: 1.7904 - accuracy: 0.4558 - val_loss: 2.5722 - val_accuracy: 0.3266\n",
      "Epoch 14/60\n",
      "715/715 - 56s - loss: 1.7237 - accuracy: 0.4728 - val_loss: 2.5313 - val_accuracy: 0.3213\n",
      "Epoch 15/60\n",
      "715/715 - 56s - loss: 1.6674 - accuracy: 0.4852 - val_loss: 2.5813 - val_accuracy: 0.3233\n",
      "Epoch 16/60\n",
      "715/715 - 55s - loss: 1.6058 - accuracy: 0.5005 - val_loss: 2.5759 - val_accuracy: 0.3355\n",
      "Epoch 17/60\n",
      "715/715 - 56s - loss: 1.5605 - accuracy: 0.5164 - val_loss: 2.6346 - val_accuracy: 0.3306\n",
      "Epoch 18/60\n",
      "715/715 - 56s - loss: 1.5015 - accuracy: 0.5316 - val_loss: 2.6842 - val_accuracy: 0.3395\n",
      "Epoch 19/60\n",
      "715/715 - 56s - loss: 1.4509 - accuracy: 0.5494 - val_loss: 2.6699 - val_accuracy: 0.3339\n",
      "Epoch 20/60\n",
      "715/715 - 57s - loss: 1.4089 - accuracy: 0.5612 - val_loss: 2.7235 - val_accuracy: 0.3359\n",
      "Epoch 21/60\n",
      "715/715 - 56s - loss: 1.3643 - accuracy: 0.5729 - val_loss: 2.7434 - val_accuracy: 0.3461\n",
      "Epoch 22/60\n",
      "715/715 - 55s - loss: 1.3332 - accuracy: 0.5898 - val_loss: 2.8059 - val_accuracy: 0.3435\n",
      "Epoch 23/60\n",
      "715/715 - 54s - loss: 1.2950 - accuracy: 0.6012 - val_loss: 2.8528 - val_accuracy: 0.3494\n",
      "Epoch 24/60\n",
      "715/715 - 53s - loss: 1.2540 - accuracy: 0.6163 - val_loss: 2.8584 - val_accuracy: 0.3497\n",
      "Epoch 25/60\n",
      "715/715 - 54s - loss: 1.2227 - accuracy: 0.6230 - val_loss: 2.8899 - val_accuracy: 0.3560\n",
      "Epoch 26/60\n",
      "715/715 - 54s - loss: 1.1899 - accuracy: 0.6372 - val_loss: 2.9625 - val_accuracy: 0.3487\n",
      "Epoch 27/60\n",
      "715/715 - 53s - loss: 1.1551 - accuracy: 0.6478 - val_loss: 2.9587 - val_accuracy: 0.3544\n",
      "Epoch 28/60\n",
      "715/715 - 55s - loss: 1.1333 - accuracy: 0.6551 - val_loss: 3.0435 - val_accuracy: 0.3715\n",
      "Epoch 29/60\n",
      "715/715 - 57s - loss: 1.1135 - accuracy: 0.6633 - val_loss: 3.0078 - val_accuracy: 0.3699\n",
      "Epoch 30/60\n",
      "715/715 - 56s - loss: 1.0841 - accuracy: 0.6699 - val_loss: 3.0645 - val_accuracy: 0.3682\n",
      "Epoch 31/60\n",
      "715/715 - 56s - loss: 1.0470 - accuracy: 0.6815 - val_loss: 3.0106 - val_accuracy: 0.3672\n",
      "Epoch 32/60\n",
      "715/715 - 55s - loss: 1.0311 - accuracy: 0.6856 - val_loss: 3.0572 - val_accuracy: 0.3620\n",
      "Epoch 33/60\n",
      "715/715 - 56s - loss: 1.0151 - accuracy: 0.6901 - val_loss: 3.1466 - val_accuracy: 0.3732\n",
      "Epoch 34/60\n",
      "715/715 - 56s - loss: 0.9993 - accuracy: 0.6962 - val_loss: 3.1636 - val_accuracy: 0.3669\n",
      "Epoch 35/60\n",
      "715/715 - 56s - loss: 0.9730 - accuracy: 0.7029 - val_loss: 3.1779 - val_accuracy: 0.3662\n",
      "Epoch 36/60\n",
      "715/715 - 58s - loss: 0.9518 - accuracy: 0.7097 - val_loss: 3.1490 - val_accuracy: 0.3669\n",
      "Epoch 37/60\n",
      "715/715 - 56s - loss: 0.9380 - accuracy: 0.7164 - val_loss: 3.2716 - val_accuracy: 0.3689\n",
      "Epoch 38/60\n",
      "715/715 - 56s - loss: 0.9311 - accuracy: 0.7178 - val_loss: 3.2058 - val_accuracy: 0.3768\n",
      "Epoch 39/60\n",
      "715/715 - 55s - loss: 0.9036 - accuracy: 0.7245 - val_loss: 3.2360 - val_accuracy: 0.3590\n",
      "Epoch 40/60\n",
      "715/715 - 53s - loss: 0.8926 - accuracy: 0.7277 - val_loss: 3.2441 - val_accuracy: 0.3725\n",
      "Epoch 41/60\n",
      "715/715 - 53s - loss: 0.8863 - accuracy: 0.7322 - val_loss: 3.2271 - val_accuracy: 0.3927\n",
      "Epoch 42/60\n",
      "715/715 - 52s - loss: 0.8642 - accuracy: 0.7371 - val_loss: 3.2914 - val_accuracy: 0.3686\n",
      "Epoch 43/60\n",
      "715/715 - 52s - loss: 0.8418 - accuracy: 0.7458 - val_loss: 3.3397 - val_accuracy: 0.3639\n",
      "Epoch 44/60\n",
      "715/715 - 53s - loss: 0.8423 - accuracy: 0.7470 - val_loss: 3.3726 - val_accuracy: 0.3676\n",
      "Epoch 45/60\n",
      "715/715 - 53s - loss: 0.8253 - accuracy: 0.7497 - val_loss: 3.4303 - val_accuracy: 0.3712\n",
      "Epoch 46/60\n",
      "715/715 - 53s - loss: 0.8158 - accuracy: 0.7527 - val_loss: 3.3821 - val_accuracy: 0.3745\n",
      "Epoch 47/60\n",
      "715/715 - 53s - loss: 0.8106 - accuracy: 0.7566 - val_loss: 3.3552 - val_accuracy: 0.3854\n",
      "Epoch 48/60\n",
      "715/715 - 53s - loss: 0.7955 - accuracy: 0.7574 - val_loss: 3.3232 - val_accuracy: 0.3778\n",
      "Epoch 49/60\n",
      "715/715 - 53s - loss: 0.7847 - accuracy: 0.7620 - val_loss: 3.4090 - val_accuracy: 0.3834\n",
      "Epoch 50/60\n",
      "715/715 - 53s - loss: 0.7738 - accuracy: 0.7672 - val_loss: 3.4870 - val_accuracy: 0.3705\n",
      "Epoch 51/60\n",
      "715/715 - 55s - loss: 0.7656 - accuracy: 0.7693 - val_loss: 3.4083 - val_accuracy: 0.3745\n",
      "Epoch 52/60\n",
      "715/715 - 56s - loss: 0.7576 - accuracy: 0.7725 - val_loss: 3.4838 - val_accuracy: 0.3771\n",
      "Epoch 53/60\n",
      "715/715 - 55s - loss: 0.7595 - accuracy: 0.7698 - val_loss: 3.3221 - val_accuracy: 0.3768\n",
      "Epoch 54/60\n",
      "715/715 - 55s - loss: 0.7545 - accuracy: 0.7725 - val_loss: 3.3926 - val_accuracy: 0.3775\n",
      "Epoch 55/60\n",
      "715/715 - 56s - loss: 0.7456 - accuracy: 0.7763 - val_loss: 3.4974 - val_accuracy: 0.3808\n",
      "Epoch 56/60\n",
      "715/715 - 56s - loss: 0.7485 - accuracy: 0.7743 - val_loss: 3.4696 - val_accuracy: 0.3752\n",
      "Epoch 57/60\n",
      "715/715 - 56s - loss: 0.7208 - accuracy: 0.7825 - val_loss: 3.5451 - val_accuracy: 0.3699\n",
      "Epoch 58/60\n",
      "715/715 - 56s - loss: 0.7170 - accuracy: 0.7854 - val_loss: 3.5894 - val_accuracy: 0.3686\n",
      "Epoch 59/60\n",
      "715/715 - 56s - loss: 0.7083 - accuracy: 0.7837 - val_loss: 3.5973 - val_accuracy: 0.3768\n",
      "Epoch 60/60\n",
      "715/715 - 56s - loss: 0.7058 - accuracy: 0.7843 - val_loss: 3.6035 - val_accuracy: 0.3686\n"
     ]
    }
   ],
   "source": [
    "num_epochs = 60\n",
    "history3 = model3.fit(X_train, Y_train, epochs=num_epochs, \n",
    "                    validation_data=(X_val, Y_val), verbose=2)"
   ]
  },
  {
   "cell_type": "code",
   "execution_count": 29,
   "metadata": {},
   "outputs": [
    {
     "name": "stdout",
     "output_type": "stream",
     "text": [
      "32/32 [==============================] - 1s 18ms/step - loss: 3.5821 - accuracy: 0.3558\n",
      "Test set\n",
      "  Loss: 3.582\n",
      "  Accuracy: 0.356\n"
     ]
    }
   ],
   "source": [
    "accr = model3.evaluate(X_test,Y_test)\n",
    "print('Test set\\n  Loss: {:0.3f}\\n  Accuracy: {:0.3f}'.format(accr[0],accr[1]))\n"
   ]
  },
  {
   "cell_type": "code",
   "execution_count": 27,
   "metadata": {},
   "outputs": [
    {
     "name": "stdout",
     "output_type": "stream",
     "text": [
      "                      precision    recall  f1-score   support\n",
      "\n",
      "alternativeamericana       0.41      0.65      0.50        46\n",
      "               blues       0.11      0.07      0.08        30\n",
      "               bmore       0.16      0.14      0.15        22\n",
      "               chill       0.18      0.15      0.17        26\n",
      "             country       0.33      0.17      0.23        23\n",
      "              doowop       0.77      0.68      0.72        25\n",
      "                folk       0.10      0.08      0.09        37\n",
      "                gogo       0.00      0.00      0.00        15\n",
      "            hardglam       0.44      0.37      0.40        19\n",
      "              hiphop       0.42      0.40      0.41        58\n",
      "               house       0.07      0.10      0.08        30\n",
      "               indie       0.23      0.28      0.25        92\n",
      "               metal       0.66      0.53      0.59       158\n",
      "           nuelectro       0.09      0.07      0.08        15\n",
      "                 pop       0.44      0.41      0.42       232\n",
      "                punk       0.09      0.18      0.12        22\n",
      "                 rap       0.40      0.44      0.42        18\n",
      "                rave       0.10      0.06      0.07        17\n",
      "                rock       0.24      0.31      0.27       108\n",
      "             worship       0.79      0.69      0.73        16\n",
      "\n",
      "            accuracy                           0.36      1009\n",
      "           macro avg       0.30      0.29      0.29      1009\n",
      "        weighted avg       0.37      0.36      0.36      1009\n",
      "\n"
     ]
    }
   ],
   "source": [
    "pred_list = model3.predict(X_test)\n",
    "pred_test = predicted_class(pred_list)\n",
    "real_test = predicted_class(Y_test)\n",
    "print(classification_report(real_test, pred_test, target_names = labels, zero_division =0))"
   ]
  },
  {
   "cell_type": "code",
   "execution_count": 28,
   "metadata": {},
   "outputs": [
    {
     "data": {
      "image/png": "[encoded data removed]",
      "text/plain": [
       "<Figure size 640x480 with 1 Axes>"
      ]
     },
     "metadata": {},
     "output_type": "display_data"
    }
   ],
   "source": [
    "figure(num=None, figsize=(8, 6), dpi=80, facecolor='w', edgecolor='k')\n",
    "plt.plot(history3.history[\"val_accuracy\"],label=\"Validation\");\n",
    "plt.plot(history3.history[\"accuracy\"], label=\"Training\")\n",
    "plt.legend(loc=\"upper left\")\n",
    "plt.title('Accuracy')\n",
    "plt.xlabel('Epoch')\n",
    "plt.ylabel('Accuracy');\n",
    "plt.savefig(\"images/gru_ac.png\")"
   ]
  }
 ],
 "metadata": {
  "kernelspec": {
   "display_name": "Python 3",
   "language": "python",
   "name": "python3"
  },
  "language_info": {
   "codemirror_mode": {
    "name": "ipython",
    "version": 3
   },
   "file_extension": ".py",
   "mimetype": "text/x-python",
   "name": "python",
   "nbconvert_exporter": "python",
   "pygments_lexer": "ipython3",
   "version": "3.7.8"
  }
 },
 "nbformat": 4,
 "nbformat_minor": 4
}
