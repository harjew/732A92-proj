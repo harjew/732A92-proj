{
 "cells": [
  {
   "cell_type": "code",
   "execution_count": 7,
   "metadata": {},
   "outputs": [],
   "source": [
    "from sklearn.pipeline import Pipeline\n",
    "from sklearn.feature_extraction.text import CountVectorizer\n",
    "from sklearn.naive_bayes import MultinomialNB\n",
    "from sklearn.metrics import classification_report\n",
    "from sklearn.metrics import f1_score\n",
    "import pandas as pd\n",
    "import bz2\n",
    "import numpy as np\n",
    "#import nltk\n",
    "#nltk.download('stopwords')\n",
    "#from nltk.corpus import stopwords\n",
    "#STOPWORDS = set(stopwords.words('english'))\n",
    "import csv"
   ]
  },
  {
   "cell_type": "code",
   "execution_count": 8,
   "metadata": {},
   "outputs": [],
   "source": [
    "import spacy\n",
    "\n",
    "nlp = spacy.load(\"en_core_web_sm\", disable=[\"tagger\", \"parser\", \"ner\",\"textcat\"])\n",
    "\n",
    "def preprocess(text):\n",
    "    return ' '.join(tok.text for tok in nlp(text) if tok.is_alpha and not tok.is_stop).lower()"
   ]
  },
  {
   "cell_type": "code",
   "execution_count": 9,
   "metadata": {},
   "outputs": [],
   "source": [
    "lyrics = []\n",
    "genre = []\n",
    "\n",
    "with open(\"lyrics_01_09.csv\", 'r',encoding='utf-8') as csvfile:\n",
    "    reader = csv.reader(csvfile, delimiter=',')\n",
    "    next(reader)\n",
    "    for row in reader:\n",
    "        genre.append(row[24])\n",
    "        lyric = preprocess(row[0]) \n",
    "        lyrics.append(lyric)"
   ]
  },
  {
   "cell_type": "code",
   "execution_count": 10,
   "metadata": {},
   "outputs": [],
   "source": [
    "genre = [i if i != \"go-go\" else \"gogo\" for i in genre]  \n",
    "genre = [i if i != \"doo-wop\" else \"doowop\" for i in genre] "
   ]
  },
  {
   "cell_type": "code",
   "execution_count": 65,
   "metadata": {},
   "outputs": [],
   "source": [
    "# TODO USE random\n",
    "import numpy as np\n",
    "from sklearn.model_selection import train_test_split\n",
    "X_train,X_val_test,Y_train,Y_val_test = train_test_split(lyrics,\n",
    "                                                 genre,\n",
    "                                                 test_size=0.15,\n",
    "                                                 random_state= 12345)\n",
    "\n",
    "X_test,X_val,Y_test,Y_val = train_test_split(X_val_test,\n",
    "                                                 Y_val_test,\n",
    "                                                 test_size=0.75,\n",
    "                                                 random_state= 43125)\n",
    "\n",
    "#from sklearn.preprocessing import LabelEncoder\n",
    "##le = LabelEncoder()\n",
    "#genre_le = le.fit_transform(genre)\n",
    "\n",
    "train_lyrics = np.asarray(X_train)\n",
    "train_genre = np.asarray(Y_train)\n",
    "\n",
    "validation_lyrics = np.asarray(X_val)\n",
    "validation_genre = np.asarray(Y_val)\n",
    "\n",
    "test_lyrics = np.asarray(X_test)\n",
    "test_genre = np.asarray(Y_test)"
   ]
  },
  {
   "cell_type": "code",
   "execution_count": 66,
   "metadata": {},
   "outputs": [
    {
     "name": "stdout",
     "output_type": "stream",
     "text": [
      "train lyrics 22875\n",
      "train genre 22875\n",
      "validation lyrics 3028\n",
      "validation genre 3028\n",
      "test lyrics 1009\n",
      "test genre 1009\n"
     ]
    }
   ],
   "source": [
    "print(f\"train lyrics {len(train_lyrics)}\")# 11450\n",
    "print(\"train genre\", len(train_genre))\n",
    "print(\"validation lyrics\", len(validation_lyrics))\n",
    "print(\"validation genre\", len(validation_genre))\n",
    "print(\"test lyrics\", len(test_lyrics))\n",
    "print(\"test genre\", len(test_genre))"
   ]
  },
  {
   "cell_type": "code",
   "execution_count": 13,
   "metadata": {},
   "outputs": [
    {
     "data": {
      "text/plain": [
       "'long eating drinking merry strange strange taking great mongol ancestors names vain strange strange honor oath destiny strange strange valuable ethics ancestors worthless strange strange hey traitor kneel hey prophecies declared born ancestor fate sleeping deeply awakened strange strange blindly declaring mongols best strange strange born live nobles unite strange strange difficult rise nation strange strange hey traitor kneel hey prophecies declared hard cherish ancestors inherited land strange strange priceless edifications elders turning ashes strange strange future eternal prosperity wolf totemed mongols blessings heaven born undeniable fate gather nations lord chinggis declares earth come come oh black banner awakened awakened oh khanate royal power rise rise forever strange strange oh black banner awakened awakened oh khanate royal power rise rise forever'"
      ]
     },
     "execution_count": 13,
     "metadata": {},
     "output_type": "execute_result"
    }
   ],
   "source": [
    "lyrics[0]"
   ]
  },
  {
   "cell_type": "code",
   "execution_count": 39,
   "metadata": {},
   "outputs": [
    {
     "name": "stdout",
     "output_type": "stream",
     "text": [
      "                      precision    recall  f1-score   support\n",
      "\n",
      "alternativeamericana       0.25      0.27      0.26        56\n",
      "               blues       0.00      0.00      0.00        23\n",
      "               bmore       0.50      0.08      0.14        24\n",
      "               chill       0.17      0.06      0.08        18\n",
      "             country       0.33      0.44      0.38        16\n",
      "              doowop       0.67      0.35      0.46        23\n",
      "                folk       0.20      0.03      0.06        31\n",
      "                gogo       0.00      0.00      0.00        17\n",
      "            hardglam       0.38      0.23      0.29        13\n",
      "              hiphop       0.30      0.51      0.37        51\n",
      "               house       0.29      0.10      0.15        40\n",
      "               indie       0.35      0.21      0.26       106\n",
      "               metal       0.51      0.68      0.58       134\n",
      "           nuelectro       0.00      0.00      0.00        12\n",
      "                 pop       0.37      0.53      0.44       245\n",
      "                punk       0.18      0.07      0.11        27\n",
      "                 rap       0.73      0.36      0.48        22\n",
      "                rave       0.67      0.14      0.24        14\n",
      "                rock       0.26      0.31      0.28       117\n",
      "             worship       0.56      0.70      0.62        20\n",
      "\n",
      "            accuracy                           0.37      1009\n",
      "           macro avg       0.33      0.25      0.26      1009\n",
      "        weighted avg       0.35      0.37      0.34      1009\n",
      "\n"
     ]
    }
   ],
   "source": [
    "# train pipeline\n",
    "pipe = Pipeline([('vectorizer', CountVectorizer(analyzer='word',max_features=10000)),\n",
    "                 ('predictor', MultinomialNB(alpha=4))])\n",
    "pipe.fit(train_lyrics, train_genre)\n",
    "# predict\n",
    "test_pred = pipe.predict(test_lyrics)\n",
    "print(classification_report(test_genre, test_pred, zero_division =0))"
   ]
  },
  {
   "cell_type": "code",
   "execution_count": 61,
   "metadata": {},
   "outputs": [
    {
     "name": "stdout",
     "output_type": "stream",
     "text": [
      "10.0 %, f1-score: 0.34544253632760896\n",
      "20.0 %, f1-score: 0.3513870541611625\n",
      "30.0 %, f1-score: 0.35964332892998685\n",
      "40.0 %, f1-score: 0.36228533685601055\n",
      "50.0 %, f1-score: 0.36492734478203437\n",
      "60.0 %, f1-score: 0.3652575957727874\n",
      "70.0 %, f1-score: 0.3632760898282695\n",
      "80.0 %, f1-score: 0.36228533685601055\n",
      "90.0 %, f1-score: 0.35997357992073975\n",
      "99.0 %, f1-score: 0.3583223249669749\n"
     ]
    }
   ],
   "source": [
    "alpha = [i/10 for i in range(100)]\n",
    "alpha[0] = 1.0e-10\n",
    "hist_val = []\n",
    "hist_train = []\n",
    "for a in alpha:\n",
    "    pipe = Pipeline([('vectorizer', CountVectorizer(analyzer='word',max_features=10000)),\n",
    "                     ('predictor', MultinomialNB(alpha=a))])\n",
    "    pipe.fit(train_lyrics, train_genre)\n",
    "    # predict\n",
    "    test_pred = pipe.predict(validation_lyrics)\n",
    "    train_pred = pipe.predict(train_lyrics)\n",
    "    hist_train.append(f1_score(train_genre,train_pred, average='micro'))\n",
    "    f1_val = f1_score(validation_genre,test_pred, average='micro')\n",
    "    hist_val.append(f1_val)\n",
    "    if a % 1 == 0:\n",
    "        print(a *10,\"%, f1-score:\",f1_val)\n",
    "\n",
    "print(a * 10,\"%, f1-score:\",f1_val)"
   ]
  },
  {
   "cell_type": "code",
   "execution_count": 54,
   "metadata": {},
   "outputs": [
    {
     "name": "stdout",
     "output_type": "stream",
     "text": [
      "5.5\n",
      "5.5\n"
     ]
    }
   ],
   "source": [
    "best_alpha = alpha[np.argmax(hist_val)]\n",
    "print(alpha[np.argmax(hist_val)])\n",
    "print(alpha[np.argmax(hist_val)])\n"
   ]
  },
  {
   "cell_type": "code",
   "execution_count": 62,
   "metadata": {},
   "outputs": [
    {
     "data": {
      "image/png": "[encoded data removed]",
      "text/plain": [
       "<Figure size 640x480 with 1 Axes>"
      ]
     },
     "metadata": {},
     "output_type": "display_data"
    }
   ],
   "source": [
    "import matplotlib.pyplot as plt\n",
    "from matplotlib.pyplot import figure\n",
    "figure(num=None, figsize=(8, 6), dpi=80, facecolor='w', edgecolor='k')\n",
    "plt.plot(alpha,hist_val,label=\"Validation\");\n",
    "plt.plot(alpha,hist_train, label=\"Training\")\n",
    "plt.legend(loc=\"upper right\")\n",
    "plt.title('f1-score MNB')\n",
    "plt.xlabel('alpha')\n",
    "plt.ylabel('f1-score');\n",
    "plt.savefig(\"images/mnb_f1.png\")"
   ]
  },
  {
   "cell_type": "code",
   "execution_count": 67,
   "metadata": {},
   "outputs": [
    {
     "name": "stdout",
     "output_type": "stream",
     "text": [
      "                      precision    recall  f1-score   support\n",
      "\n",
      "alternativeamericana       0.23      0.20      0.21        46\n",
      "               blues       0.00      0.00      0.00        29\n",
      "               bmore       0.67      0.08      0.14        26\n",
      "               chill       0.33      0.05      0.08        21\n",
      "             country       0.50      0.22      0.31        18\n",
      "              doowop       0.62      0.40      0.48        20\n",
      "                folk       0.60      0.10      0.18        29\n",
      "                gogo       0.00      0.00      0.00        14\n",
      "            hardglam       0.57      0.20      0.30        20\n",
      "              hiphop       0.38      0.71      0.50        63\n",
      "               house       0.27      0.08      0.12        52\n",
      "               indie       0.25      0.13      0.17       111\n",
      "               metal       0.51      0.76      0.61       127\n",
      "           nuelectro       0.00      0.00      0.00        10\n",
      "                 pop       0.35      0.55      0.43       244\n",
      "                punk       0.25      0.03      0.06        31\n",
      "                 rap       0.40      0.17      0.24        12\n",
      "                rave       0.00      0.00      0.00        14\n",
      "                rock       0.27      0.34      0.30       104\n",
      "             worship       0.65      0.83      0.73        18\n",
      "\n",
      "            accuracy                           0.37      1009\n",
      "           macro avg       0.34      0.24      0.24      1009\n",
      "        weighted avg       0.35      0.37      0.33      1009\n",
      "\n"
     ]
    }
   ],
   "source": [
    "pipe = Pipeline([('vectorizer', CountVectorizer(max_features=10000)),\n",
    "                 ('predictor', MultinomialNB(alpha=best_alpha))])\n",
    "pipe.fit(train_lyrics, train_genre)\n",
    "# predict\n",
    "test_pred = pipe.predict(test_lyrics)\n",
    "print(classification_report(test_genre, test_pred, zero_division =0))"
   ]
  },
  {
   "cell_type": "code",
   "execution_count": 69,
   "metadata": {},
   "outputs": [
    {
     "name": "stdout",
     "output_type": "stream",
     "text": [
      "                      precision    recall  f1-score   support\n",
      "\n",
      "alternativeamericana       0.22      0.26      0.24        46\n",
      "               blues       0.00      0.00      0.00        29\n",
      "               bmore       0.60      0.12      0.19        26\n",
      "               chill       0.29      0.10      0.14        21\n",
      "             country       0.38      0.28      0.32        18\n",
      "              doowop       0.62      0.40      0.48        20\n",
      "                folk       0.50      0.10      0.17        29\n",
      "                gogo       0.00      0.00      0.00        14\n",
      "            hardglam       0.50      0.35      0.41        20\n",
      "              hiphop       0.39      0.68      0.50        63\n",
      "               house       0.23      0.06      0.09        52\n",
      "               indie       0.22      0.13      0.16       111\n",
      "               metal       0.51      0.74      0.60       127\n",
      "           nuelectro       0.00      0.00      0.00        10\n",
      "                 pop       0.35      0.49      0.41       244\n",
      "                punk       0.25      0.06      0.10        31\n",
      "                 rap       0.25      0.17      0.20        12\n",
      "                rave       0.00      0.00      0.00        14\n",
      "                rock       0.28      0.37      0.32       104\n",
      "             worship       0.64      0.78      0.70        18\n",
      "\n",
      "            accuracy                           0.37      1009\n",
      "           macro avg       0.31      0.25      0.25      1009\n",
      "        weighted avg       0.34      0.37      0.33      1009\n",
      "\n"
     ]
    }
   ],
   "source": [
    "pipe = Pipeline([('vectorizer', CountVectorizer(max_features=10000)),\n",
    "                 ('predictor', MultinomialNB(alpha=4))])\n",
    "pipe.fit(train_lyrics, train_genre)\n",
    "# predict\n",
    "test_pred = pipe.predict(test_lyrics)\n",
    "print(classification_report(test_genre, test_pred, zero_division =0))"
   ]
  }
 ],
 "metadata": {
  "kernelspec": {
   "display_name": "Python 3",
   "language": "python",
   "name": "python3"
  },
  "language_info": {
   "codemirror_mode": {
    "name": "ipython",
    "version": 3
   },
   "file_extension": ".py",
   "mimetype": "text/x-python",
   "name": "python",
   "nbconvert_exporter": "python",
   "pygments_lexer": "ipython3",
   "version": "3.7.8"
  }
 },
 "nbformat": 4,
 "nbformat_minor": 4
}
